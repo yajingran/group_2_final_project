{
 "cells": [
  {
   "cell_type": "code",
   "execution_count": null,
   "metadata": {
    "id": "jzgJzUV0GFw8"
   },
   "outputs": [],
   "source": [
    "#import dependency\n",
    "import pandas as pd\n",
    "import numpy as np\n",
    "import seaborn as sns\n",
    "import matplotlib.pyplot as plt\n",
    "from sklearn import linear_model\n",
    "from sklearn.linear_model import LinearRegression\n",
    "from sklearn.model_selection import train_test_split\n",
    "from sklearn import preprocessing\n",
    "import requests\n",
    "import psycopg2\n",
    "import config as creds\n"
   ]
  },
  {
   "cell_type": "code",
   "execution_count": 2,
   "metadata": {},
   "outputs": [
    {
     "data": {
      "text/html": [
       "<div>\n",
       "<style scoped>\n",
       "    .dataframe tbody tr th:only-of-type {\n",
       "        vertical-align: middle;\n",
       "    }\n",
       "\n",
       "    .dataframe tbody tr th {\n",
       "        vertical-align: top;\n",
       "    }\n",
       "\n",
       "    .dataframe thead th {\n",
       "        text-align: right;\n",
       "    }\n",
       "</style>\n",
       "<table border=\"1\" class=\"dataframe\">\n",
       "  <thead>\n",
       "    <tr style=\"text-align: right;\">\n",
       "      <th></th>\n",
       "      <th>Unnamed: 0</th>\n",
       "      <th>Order</th>\n",
       "      <th>PID</th>\n",
       "      <th>MS SubClass</th>\n",
       "      <th>MS Zoning</th>\n",
       "      <th>Lot Frontage</th>\n",
       "      <th>Lot Area</th>\n",
       "      <th>Street</th>\n",
       "      <th>Alley</th>\n",
       "      <th>Lot Shape</th>\n",
       "      <th>...</th>\n",
       "      <th>Pool Area</th>\n",
       "      <th>Pool QC</th>\n",
       "      <th>Fence</th>\n",
       "      <th>Misc Feature</th>\n",
       "      <th>Misc Val</th>\n",
       "      <th>Mo Sold</th>\n",
       "      <th>Yr Sold</th>\n",
       "      <th>Sale Type</th>\n",
       "      <th>Sale Condition</th>\n",
       "      <th>SalePrice</th>\n",
       "    </tr>\n",
       "  </thead>\n",
       "  <tbody>\n",
       "    <tr>\n",
       "      <th>0</th>\n",
       "      <td>1</td>\n",
       "      <td>1</td>\n",
       "      <td>526301100</td>\n",
       "      <td>20</td>\n",
       "      <td>RL</td>\n",
       "      <td>141.0</td>\n",
       "      <td>31770</td>\n",
       "      <td>Pave</td>\n",
       "      <td>NaN</td>\n",
       "      <td>IR1</td>\n",
       "      <td>...</td>\n",
       "      <td>0</td>\n",
       "      <td>NaN</td>\n",
       "      <td>NaN</td>\n",
       "      <td>NaN</td>\n",
       "      <td>0</td>\n",
       "      <td>5</td>\n",
       "      <td>2010</td>\n",
       "      <td>WD</td>\n",
       "      <td>Normal</td>\n",
       "      <td>215000</td>\n",
       "    </tr>\n",
       "    <tr>\n",
       "      <th>1</th>\n",
       "      <td>2</td>\n",
       "      <td>2</td>\n",
       "      <td>526350040</td>\n",
       "      <td>20</td>\n",
       "      <td>RH</td>\n",
       "      <td>80.0</td>\n",
       "      <td>11622</td>\n",
       "      <td>Pave</td>\n",
       "      <td>NaN</td>\n",
       "      <td>Reg</td>\n",
       "      <td>...</td>\n",
       "      <td>0</td>\n",
       "      <td>NaN</td>\n",
       "      <td>MnPrv</td>\n",
       "      <td>NaN</td>\n",
       "      <td>0</td>\n",
       "      <td>6</td>\n",
       "      <td>2010</td>\n",
       "      <td>WD</td>\n",
       "      <td>Normal</td>\n",
       "      <td>105000</td>\n",
       "    </tr>\n",
       "    <tr>\n",
       "      <th>2</th>\n",
       "      <td>3</td>\n",
       "      <td>3</td>\n",
       "      <td>526351010</td>\n",
       "      <td>20</td>\n",
       "      <td>RL</td>\n",
       "      <td>81.0</td>\n",
       "      <td>14267</td>\n",
       "      <td>Pave</td>\n",
       "      <td>NaN</td>\n",
       "      <td>IR1</td>\n",
       "      <td>...</td>\n",
       "      <td>0</td>\n",
       "      <td>NaN</td>\n",
       "      <td>NaN</td>\n",
       "      <td>Gar2</td>\n",
       "      <td>12500</td>\n",
       "      <td>6</td>\n",
       "      <td>2010</td>\n",
       "      <td>WD</td>\n",
       "      <td>Normal</td>\n",
       "      <td>172000</td>\n",
       "    </tr>\n",
       "    <tr>\n",
       "      <th>3</th>\n",
       "      <td>4</td>\n",
       "      <td>4</td>\n",
       "      <td>526353030</td>\n",
       "      <td>20</td>\n",
       "      <td>RL</td>\n",
       "      <td>93.0</td>\n",
       "      <td>11160</td>\n",
       "      <td>Pave</td>\n",
       "      <td>NaN</td>\n",
       "      <td>Reg</td>\n",
       "      <td>...</td>\n",
       "      <td>0</td>\n",
       "      <td>NaN</td>\n",
       "      <td>NaN</td>\n",
       "      <td>NaN</td>\n",
       "      <td>0</td>\n",
       "      <td>4</td>\n",
       "      <td>2010</td>\n",
       "      <td>WD</td>\n",
       "      <td>Normal</td>\n",
       "      <td>244000</td>\n",
       "    </tr>\n",
       "    <tr>\n",
       "      <th>4</th>\n",
       "      <td>5</td>\n",
       "      <td>5</td>\n",
       "      <td>527105010</td>\n",
       "      <td>60</td>\n",
       "      <td>RL</td>\n",
       "      <td>74.0</td>\n",
       "      <td>13830</td>\n",
       "      <td>Pave</td>\n",
       "      <td>NaN</td>\n",
       "      <td>IR1</td>\n",
       "      <td>...</td>\n",
       "      <td>0</td>\n",
       "      <td>NaN</td>\n",
       "      <td>MnPrv</td>\n",
       "      <td>NaN</td>\n",
       "      <td>0</td>\n",
       "      <td>3</td>\n",
       "      <td>2010</td>\n",
       "      <td>WD</td>\n",
       "      <td>Normal</td>\n",
       "      <td>189900</td>\n",
       "    </tr>\n",
       "  </tbody>\n",
       "</table>\n",
       "<p>5 rows × 83 columns</p>\n",
       "</div>"
      ],
      "text/plain": [
       "   Unnamed: 0  Order        PID  MS SubClass MS Zoning  Lot Frontage  \\\n",
       "0           1      1  526301100           20        RL         141.0   \n",
       "1           2      2  526350040           20        RH          80.0   \n",
       "2           3      3  526351010           20        RL          81.0   \n",
       "3           4      4  526353030           20        RL          93.0   \n",
       "4           5      5  527105010           60        RL          74.0   \n",
       "\n",
       "   Lot Area Street Alley Lot Shape  ... Pool Area Pool QC  Fence Misc Feature  \\\n",
       "0     31770   Pave   NaN       IR1  ...         0     NaN    NaN          NaN   \n",
       "1     11622   Pave   NaN       Reg  ...         0     NaN  MnPrv          NaN   \n",
       "2     14267   Pave   NaN       IR1  ...         0     NaN    NaN         Gar2   \n",
       "3     11160   Pave   NaN       Reg  ...         0     NaN    NaN          NaN   \n",
       "4     13830   Pave   NaN       IR1  ...         0     NaN  MnPrv          NaN   \n",
       "\n",
       "  Misc Val Mo Sold Yr Sold Sale Type Sale Condition  SalePrice  \n",
       "0        0       5    2010       WD          Normal     215000  \n",
       "1        0       6    2010       WD          Normal     105000  \n",
       "2    12500       6    2010       WD          Normal     172000  \n",
       "3        0       4    2010       WD          Normal     244000  \n",
       "4        0       3    2010       WD          Normal     189900  \n",
       "\n",
       "[5 rows x 83 columns]"
      ]
     },
     "execution_count": 2,
     "metadata": {},
     "output_type": "execute_result"
    }
   ],
   "source": [
    "# Import our input dataset\n",
    "#ames_df = pd.read_csv('Resources/ames_raw.csv', keep_default_na=False)\n",
    "ames_df = pd.read_csv('Resources/ames_raw.csv')\n",
    "ames_df.head()"
   ]
  },
  {
   "cell_type": "code",
   "execution_count": 3,
   "metadata": {
    "colab": {
     "base_uri": "https://localhost:8080/",
     "height": 422
    },
    "id": "y1_yxI3fBU6h",
    "outputId": "c59430f7-ae70-4fa0-daeb-0e917d98b670"
   },
   "outputs": [
    {
     "data": {
      "text/html": [
       "<div>\n",
       "<style scoped>\n",
       "    .dataframe tbody tr th:only-of-type {\n",
       "        vertical-align: middle;\n",
       "    }\n",
       "\n",
       "    .dataframe tbody tr th {\n",
       "        vertical-align: top;\n",
       "    }\n",
       "\n",
       "    .dataframe thead th {\n",
       "        text-align: right;\n",
       "    }\n",
       "</style>\n",
       "<table border=\"1\" class=\"dataframe\">\n",
       "  <thead>\n",
       "    <tr style=\"text-align: right;\">\n",
       "      <th></th>\n",
       "      <th>Unnamed: 0</th>\n",
       "      <th>Order</th>\n",
       "      <th>PID</th>\n",
       "      <th>MS SubClass</th>\n",
       "      <th>MS Zoning</th>\n",
       "      <th>Lot Frontage</th>\n",
       "      <th>Lot Area</th>\n",
       "      <th>Street</th>\n",
       "      <th>Alley</th>\n",
       "      <th>Lot Shape</th>\n",
       "      <th>...</th>\n",
       "      <th>Pool Area</th>\n",
       "      <th>Pool QC</th>\n",
       "      <th>Fence</th>\n",
       "      <th>Misc Feature</th>\n",
       "      <th>Misc Val</th>\n",
       "      <th>Mo Sold</th>\n",
       "      <th>Yr Sold</th>\n",
       "      <th>Sale Type</th>\n",
       "      <th>Sale Condition</th>\n",
       "      <th>SalePrice</th>\n",
       "    </tr>\n",
       "  </thead>\n",
       "  <tbody>\n",
       "    <tr>\n",
       "      <th>0</th>\n",
       "      <td>1</td>\n",
       "      <td>1</td>\n",
       "      <td>526301100</td>\n",
       "      <td>20</td>\n",
       "      <td>RL</td>\n",
       "      <td>141.0</td>\n",
       "      <td>31770</td>\n",
       "      <td>Pave</td>\n",
       "      <td>NaN</td>\n",
       "      <td>IR1</td>\n",
       "      <td>...</td>\n",
       "      <td>0</td>\n",
       "      <td>NaN</td>\n",
       "      <td>NaN</td>\n",
       "      <td>NaN</td>\n",
       "      <td>0</td>\n",
       "      <td>5</td>\n",
       "      <td>2010</td>\n",
       "      <td>WD</td>\n",
       "      <td>Normal</td>\n",
       "      <td>215000</td>\n",
       "    </tr>\n",
       "    <tr>\n",
       "      <th>1</th>\n",
       "      <td>2</td>\n",
       "      <td>2</td>\n",
       "      <td>526350040</td>\n",
       "      <td>20</td>\n",
       "      <td>RH</td>\n",
       "      <td>80.0</td>\n",
       "      <td>11622</td>\n",
       "      <td>Pave</td>\n",
       "      <td>NaN</td>\n",
       "      <td>Reg</td>\n",
       "      <td>...</td>\n",
       "      <td>0</td>\n",
       "      <td>NaN</td>\n",
       "      <td>MnPrv</td>\n",
       "      <td>NaN</td>\n",
       "      <td>0</td>\n",
       "      <td>6</td>\n",
       "      <td>2010</td>\n",
       "      <td>WD</td>\n",
       "      <td>Normal</td>\n",
       "      <td>105000</td>\n",
       "    </tr>\n",
       "    <tr>\n",
       "      <th>2</th>\n",
       "      <td>3</td>\n",
       "      <td>3</td>\n",
       "      <td>526351010</td>\n",
       "      <td>20</td>\n",
       "      <td>RL</td>\n",
       "      <td>81.0</td>\n",
       "      <td>14267</td>\n",
       "      <td>Pave</td>\n",
       "      <td>NaN</td>\n",
       "      <td>IR1</td>\n",
       "      <td>...</td>\n",
       "      <td>0</td>\n",
       "      <td>NaN</td>\n",
       "      <td>NaN</td>\n",
       "      <td>Gar2</td>\n",
       "      <td>12500</td>\n",
       "      <td>6</td>\n",
       "      <td>2010</td>\n",
       "      <td>WD</td>\n",
       "      <td>Normal</td>\n",
       "      <td>172000</td>\n",
       "    </tr>\n",
       "    <tr>\n",
       "      <th>3</th>\n",
       "      <td>4</td>\n",
       "      <td>4</td>\n",
       "      <td>526353030</td>\n",
       "      <td>20</td>\n",
       "      <td>RL</td>\n",
       "      <td>93.0</td>\n",
       "      <td>11160</td>\n",
       "      <td>Pave</td>\n",
       "      <td>NaN</td>\n",
       "      <td>Reg</td>\n",
       "      <td>...</td>\n",
       "      <td>0</td>\n",
       "      <td>NaN</td>\n",
       "      <td>NaN</td>\n",
       "      <td>NaN</td>\n",
       "      <td>0</td>\n",
       "      <td>4</td>\n",
       "      <td>2010</td>\n",
       "      <td>WD</td>\n",
       "      <td>Normal</td>\n",
       "      <td>244000</td>\n",
       "    </tr>\n",
       "    <tr>\n",
       "      <th>4</th>\n",
       "      <td>5</td>\n",
       "      <td>5</td>\n",
       "      <td>527105010</td>\n",
       "      <td>60</td>\n",
       "      <td>RL</td>\n",
       "      <td>74.0</td>\n",
       "      <td>13830</td>\n",
       "      <td>Pave</td>\n",
       "      <td>NaN</td>\n",
       "      <td>IR1</td>\n",
       "      <td>...</td>\n",
       "      <td>0</td>\n",
       "      <td>NaN</td>\n",
       "      <td>MnPrv</td>\n",
       "      <td>NaN</td>\n",
       "      <td>0</td>\n",
       "      <td>3</td>\n",
       "      <td>2010</td>\n",
       "      <td>WD</td>\n",
       "      <td>Normal</td>\n",
       "      <td>189900</td>\n",
       "    </tr>\n",
       "    <tr>\n",
       "      <th>...</th>\n",
       "      <td>...</td>\n",
       "      <td>...</td>\n",
       "      <td>...</td>\n",
       "      <td>...</td>\n",
       "      <td>...</td>\n",
       "      <td>...</td>\n",
       "      <td>...</td>\n",
       "      <td>...</td>\n",
       "      <td>...</td>\n",
       "      <td>...</td>\n",
       "      <td>...</td>\n",
       "      <td>...</td>\n",
       "      <td>...</td>\n",
       "      <td>...</td>\n",
       "      <td>...</td>\n",
       "      <td>...</td>\n",
       "      <td>...</td>\n",
       "      <td>...</td>\n",
       "      <td>...</td>\n",
       "      <td>...</td>\n",
       "      <td>...</td>\n",
       "    </tr>\n",
       "    <tr>\n",
       "      <th>2925</th>\n",
       "      <td>2926</td>\n",
       "      <td>2926</td>\n",
       "      <td>923275080</td>\n",
       "      <td>80</td>\n",
       "      <td>RL</td>\n",
       "      <td>37.0</td>\n",
       "      <td>7937</td>\n",
       "      <td>Pave</td>\n",
       "      <td>NaN</td>\n",
       "      <td>IR1</td>\n",
       "      <td>...</td>\n",
       "      <td>0</td>\n",
       "      <td>NaN</td>\n",
       "      <td>GdPrv</td>\n",
       "      <td>NaN</td>\n",
       "      <td>0</td>\n",
       "      <td>3</td>\n",
       "      <td>2006</td>\n",
       "      <td>WD</td>\n",
       "      <td>Normal</td>\n",
       "      <td>142500</td>\n",
       "    </tr>\n",
       "    <tr>\n",
       "      <th>2926</th>\n",
       "      <td>2927</td>\n",
       "      <td>2927</td>\n",
       "      <td>923276100</td>\n",
       "      <td>20</td>\n",
       "      <td>RL</td>\n",
       "      <td>NaN</td>\n",
       "      <td>8885</td>\n",
       "      <td>Pave</td>\n",
       "      <td>NaN</td>\n",
       "      <td>IR1</td>\n",
       "      <td>...</td>\n",
       "      <td>0</td>\n",
       "      <td>NaN</td>\n",
       "      <td>MnPrv</td>\n",
       "      <td>NaN</td>\n",
       "      <td>0</td>\n",
       "      <td>6</td>\n",
       "      <td>2006</td>\n",
       "      <td>WD</td>\n",
       "      <td>Normal</td>\n",
       "      <td>131000</td>\n",
       "    </tr>\n",
       "    <tr>\n",
       "      <th>2927</th>\n",
       "      <td>2928</td>\n",
       "      <td>2928</td>\n",
       "      <td>923400125</td>\n",
       "      <td>85</td>\n",
       "      <td>RL</td>\n",
       "      <td>62.0</td>\n",
       "      <td>10441</td>\n",
       "      <td>Pave</td>\n",
       "      <td>NaN</td>\n",
       "      <td>Reg</td>\n",
       "      <td>...</td>\n",
       "      <td>0</td>\n",
       "      <td>NaN</td>\n",
       "      <td>MnPrv</td>\n",
       "      <td>Shed</td>\n",
       "      <td>700</td>\n",
       "      <td>7</td>\n",
       "      <td>2006</td>\n",
       "      <td>WD</td>\n",
       "      <td>Normal</td>\n",
       "      <td>132000</td>\n",
       "    </tr>\n",
       "    <tr>\n",
       "      <th>2928</th>\n",
       "      <td>2929</td>\n",
       "      <td>2929</td>\n",
       "      <td>924100070</td>\n",
       "      <td>20</td>\n",
       "      <td>RL</td>\n",
       "      <td>77.0</td>\n",
       "      <td>10010</td>\n",
       "      <td>Pave</td>\n",
       "      <td>NaN</td>\n",
       "      <td>Reg</td>\n",
       "      <td>...</td>\n",
       "      <td>0</td>\n",
       "      <td>NaN</td>\n",
       "      <td>NaN</td>\n",
       "      <td>NaN</td>\n",
       "      <td>0</td>\n",
       "      <td>4</td>\n",
       "      <td>2006</td>\n",
       "      <td>WD</td>\n",
       "      <td>Normal</td>\n",
       "      <td>170000</td>\n",
       "    </tr>\n",
       "    <tr>\n",
       "      <th>2929</th>\n",
       "      <td>2930</td>\n",
       "      <td>2930</td>\n",
       "      <td>924151050</td>\n",
       "      <td>60</td>\n",
       "      <td>RL</td>\n",
       "      <td>74.0</td>\n",
       "      <td>9627</td>\n",
       "      <td>Pave</td>\n",
       "      <td>NaN</td>\n",
       "      <td>Reg</td>\n",
       "      <td>...</td>\n",
       "      <td>0</td>\n",
       "      <td>NaN</td>\n",
       "      <td>NaN</td>\n",
       "      <td>NaN</td>\n",
       "      <td>0</td>\n",
       "      <td>11</td>\n",
       "      <td>2006</td>\n",
       "      <td>WD</td>\n",
       "      <td>Normal</td>\n",
       "      <td>188000</td>\n",
       "    </tr>\n",
       "  </tbody>\n",
       "</table>\n",
       "<p>2930 rows × 83 columns</p>\n",
       "</div>"
      ],
      "text/plain": [
       "      Unnamed: 0  Order        PID  MS SubClass MS Zoning  Lot Frontage  \\\n",
       "0              1      1  526301100           20        RL         141.0   \n",
       "1              2      2  526350040           20        RH          80.0   \n",
       "2              3      3  526351010           20        RL          81.0   \n",
       "3              4      4  526353030           20        RL          93.0   \n",
       "4              5      5  527105010           60        RL          74.0   \n",
       "...          ...    ...        ...          ...       ...           ...   \n",
       "2925        2926   2926  923275080           80        RL          37.0   \n",
       "2926        2927   2927  923276100           20        RL           NaN   \n",
       "2927        2928   2928  923400125           85        RL          62.0   \n",
       "2928        2929   2929  924100070           20        RL          77.0   \n",
       "2929        2930   2930  924151050           60        RL          74.0   \n",
       "\n",
       "      Lot Area Street Alley Lot Shape  ... Pool Area Pool QC  Fence  \\\n",
       "0        31770   Pave   NaN       IR1  ...         0     NaN    NaN   \n",
       "1        11622   Pave   NaN       Reg  ...         0     NaN  MnPrv   \n",
       "2        14267   Pave   NaN       IR1  ...         0     NaN    NaN   \n",
       "3        11160   Pave   NaN       Reg  ...         0     NaN    NaN   \n",
       "4        13830   Pave   NaN       IR1  ...         0     NaN  MnPrv   \n",
       "...        ...    ...   ...       ...  ...       ...     ...    ...   \n",
       "2925      7937   Pave   NaN       IR1  ...         0     NaN  GdPrv   \n",
       "2926      8885   Pave   NaN       IR1  ...         0     NaN  MnPrv   \n",
       "2927     10441   Pave   NaN       Reg  ...         0     NaN  MnPrv   \n",
       "2928     10010   Pave   NaN       Reg  ...         0     NaN    NaN   \n",
       "2929      9627   Pave   NaN       Reg  ...         0     NaN    NaN   \n",
       "\n",
       "     Misc Feature Misc Val Mo Sold Yr Sold Sale Type Sale Condition  SalePrice  \n",
       "0             NaN        0       5    2010       WD          Normal     215000  \n",
       "1             NaN        0       6    2010       WD          Normal     105000  \n",
       "2            Gar2    12500       6    2010       WD          Normal     172000  \n",
       "3             NaN        0       4    2010       WD          Normal     244000  \n",
       "4             NaN        0       3    2010       WD          Normal     189900  \n",
       "...           ...      ...     ...     ...       ...            ...        ...  \n",
       "2925          NaN        0       3    2006       WD          Normal     142500  \n",
       "2926          NaN        0       6    2006       WD          Normal     131000  \n",
       "2927         Shed      700       7    2006       WD          Normal     132000  \n",
       "2928          NaN        0       4    2006       WD          Normal     170000  \n",
       "2929          NaN        0      11    2006       WD          Normal     188000  \n",
       "\n",
       "[2930 rows x 83 columns]"
      ]
     },
     "execution_count": 3,
     "metadata": {},
     "output_type": "execute_result"
    }
   ],
   "source": [
    "ames_df"
   ]
  },
  {
   "cell_type": "code",
   "execution_count": 4,
   "metadata": {},
   "outputs": [],
   "source": [
    "# Drop 1st column\n",
    "ames_df = ames_df.drop(ames_df.columns[0], axis=1)"
   ]
  },
  {
   "cell_type": "markdown",
   "metadata": {
    "id": "Bqb9nQgYJctA"
   },
   "source": [
    "# **Step 1: Data Exploration**\n",
    "* Check the dataset\n",
    "* check the missing values and duplicates\n",
    "* check the columns\n",
    "* check the types\n",
    "* check the shape"
   ]
  },
  {
   "cell_type": "code",
   "execution_count": 5,
   "metadata": {
    "colab": {
     "base_uri": "https://localhost:8080/"
    },
    "id": "81di3HZ9k2Eq",
    "outputId": "5baf443a-54d8-4b72-f5c6-86aecfd171f5"
   },
   "outputs": [
    {
     "data": {
      "text/plain": [
       "Order               int64\n",
       "PID                 int64\n",
       "MS SubClass         int64\n",
       "MS Zoning          object\n",
       "Lot Frontage      float64\n",
       "                   ...   \n",
       "Mo Sold             int64\n",
       "Yr Sold             int64\n",
       "Sale Type          object\n",
       "Sale Condition     object\n",
       "SalePrice           int64\n",
       "Length: 82, dtype: object"
      ]
     },
     "execution_count": 5,
     "metadata": {},
     "output_type": "execute_result"
    }
   ],
   "source": [
    "ames_df.dtypes"
   ]
  },
  {
   "cell_type": "code",
   "execution_count": 6,
   "metadata": {},
   "outputs": [
    {
     "data": {
      "text/html": [
       "<div>\n",
       "<style scoped>\n",
       "    .dataframe tbody tr th:only-of-type {\n",
       "        vertical-align: middle;\n",
       "    }\n",
       "\n",
       "    .dataframe tbody tr th {\n",
       "        vertical-align: top;\n",
       "    }\n",
       "\n",
       "    .dataframe thead th {\n",
       "        text-align: right;\n",
       "    }\n",
       "</style>\n",
       "<table border=\"1\" class=\"dataframe\">\n",
       "  <thead>\n",
       "    <tr style=\"text-align: right;\">\n",
       "      <th></th>\n",
       "      <th>ames_order</th>\n",
       "      <th>pid</th>\n",
       "      <th>mssubclass</th>\n",
       "      <th>mszoning</th>\n",
       "      <th>lotfrontage</th>\n",
       "      <th>lotarea</th>\n",
       "      <th>street</th>\n",
       "      <th>alley</th>\n",
       "      <th>lotshape</th>\n",
       "      <th>landcontour</th>\n",
       "      <th>...</th>\n",
       "      <th>poolarea</th>\n",
       "      <th>poolqc</th>\n",
       "      <th>fence</th>\n",
       "      <th>miscfeature</th>\n",
       "      <th>miscval</th>\n",
       "      <th>mosold</th>\n",
       "      <th>yrsold</th>\n",
       "      <th>saletype</th>\n",
       "      <th>salecondition</th>\n",
       "      <th>saleprice</th>\n",
       "    </tr>\n",
       "  </thead>\n",
       "  <tbody>\n",
       "    <tr>\n",
       "      <th>0</th>\n",
       "      <td>1</td>\n",
       "      <td>526301100</td>\n",
       "      <td>20</td>\n",
       "      <td>RL</td>\n",
       "      <td>141.0</td>\n",
       "      <td>31770</td>\n",
       "      <td>Pave</td>\n",
       "      <td>NaN</td>\n",
       "      <td>IR1</td>\n",
       "      <td>Lvl</td>\n",
       "      <td>...</td>\n",
       "      <td>0</td>\n",
       "      <td>NaN</td>\n",
       "      <td>NaN</td>\n",
       "      <td>NaN</td>\n",
       "      <td>0</td>\n",
       "      <td>5</td>\n",
       "      <td>2010</td>\n",
       "      <td>WD</td>\n",
       "      <td>Normal</td>\n",
       "      <td>215000</td>\n",
       "    </tr>\n",
       "    <tr>\n",
       "      <th>1</th>\n",
       "      <td>2</td>\n",
       "      <td>526350040</td>\n",
       "      <td>20</td>\n",
       "      <td>RH</td>\n",
       "      <td>80.0</td>\n",
       "      <td>11622</td>\n",
       "      <td>Pave</td>\n",
       "      <td>NaN</td>\n",
       "      <td>Reg</td>\n",
       "      <td>Lvl</td>\n",
       "      <td>...</td>\n",
       "      <td>0</td>\n",
       "      <td>NaN</td>\n",
       "      <td>MnPrv</td>\n",
       "      <td>NaN</td>\n",
       "      <td>0</td>\n",
       "      <td>6</td>\n",
       "      <td>2010</td>\n",
       "      <td>WD</td>\n",
       "      <td>Normal</td>\n",
       "      <td>105000</td>\n",
       "    </tr>\n",
       "    <tr>\n",
       "      <th>2</th>\n",
       "      <td>3</td>\n",
       "      <td>526351010</td>\n",
       "      <td>20</td>\n",
       "      <td>RL</td>\n",
       "      <td>81.0</td>\n",
       "      <td>14267</td>\n",
       "      <td>Pave</td>\n",
       "      <td>NaN</td>\n",
       "      <td>IR1</td>\n",
       "      <td>Lvl</td>\n",
       "      <td>...</td>\n",
       "      <td>0</td>\n",
       "      <td>NaN</td>\n",
       "      <td>NaN</td>\n",
       "      <td>Gar2</td>\n",
       "      <td>12500</td>\n",
       "      <td>6</td>\n",
       "      <td>2010</td>\n",
       "      <td>WD</td>\n",
       "      <td>Normal</td>\n",
       "      <td>172000</td>\n",
       "    </tr>\n",
       "    <tr>\n",
       "      <th>3</th>\n",
       "      <td>4</td>\n",
       "      <td>526353030</td>\n",
       "      <td>20</td>\n",
       "      <td>RL</td>\n",
       "      <td>93.0</td>\n",
       "      <td>11160</td>\n",
       "      <td>Pave</td>\n",
       "      <td>NaN</td>\n",
       "      <td>Reg</td>\n",
       "      <td>Lvl</td>\n",
       "      <td>...</td>\n",
       "      <td>0</td>\n",
       "      <td>NaN</td>\n",
       "      <td>NaN</td>\n",
       "      <td>NaN</td>\n",
       "      <td>0</td>\n",
       "      <td>4</td>\n",
       "      <td>2010</td>\n",
       "      <td>WD</td>\n",
       "      <td>Normal</td>\n",
       "      <td>244000</td>\n",
       "    </tr>\n",
       "    <tr>\n",
       "      <th>4</th>\n",
       "      <td>5</td>\n",
       "      <td>527105010</td>\n",
       "      <td>60</td>\n",
       "      <td>RL</td>\n",
       "      <td>74.0</td>\n",
       "      <td>13830</td>\n",
       "      <td>Pave</td>\n",
       "      <td>NaN</td>\n",
       "      <td>IR1</td>\n",
       "      <td>Lvl</td>\n",
       "      <td>...</td>\n",
       "      <td>0</td>\n",
       "      <td>NaN</td>\n",
       "      <td>MnPrv</td>\n",
       "      <td>NaN</td>\n",
       "      <td>0</td>\n",
       "      <td>3</td>\n",
       "      <td>2010</td>\n",
       "      <td>WD</td>\n",
       "      <td>Normal</td>\n",
       "      <td>189900</td>\n",
       "    </tr>\n",
       "  </tbody>\n",
       "</table>\n",
       "<p>5 rows × 82 columns</p>\n",
       "</div>"
      ],
      "text/plain": [
       "   ames_order        pid  mssubclass mszoning  lotfrontage  lotarea street  \\\n",
       "0           1  526301100          20       RL        141.0    31770   Pave   \n",
       "1           2  526350040          20       RH         80.0    11622   Pave   \n",
       "2           3  526351010          20       RL         81.0    14267   Pave   \n",
       "3           4  526353030          20       RL         93.0    11160   Pave   \n",
       "4           5  527105010          60       RL         74.0    13830   Pave   \n",
       "\n",
       "  alley lotshape landcontour  ... poolarea poolqc  fence miscfeature miscval  \\\n",
       "0   NaN      IR1         Lvl  ...        0    NaN    NaN         NaN       0   \n",
       "1   NaN      Reg         Lvl  ...        0    NaN  MnPrv         NaN       0   \n",
       "2   NaN      IR1         Lvl  ...        0    NaN    NaN        Gar2   12500   \n",
       "3   NaN      Reg         Lvl  ...        0    NaN    NaN         NaN       0   \n",
       "4   NaN      IR1         Lvl  ...        0    NaN  MnPrv         NaN       0   \n",
       "\n",
       "  mosold yrsold saletype  salecondition  saleprice  \n",
       "0      5   2010      WD          Normal     215000  \n",
       "1      6   2010      WD          Normal     105000  \n",
       "2      6   2010      WD          Normal     172000  \n",
       "3      4   2010      WD          Normal     244000  \n",
       "4      3   2010      WD          Normal     189900  \n",
       "\n",
       "[5 rows x 82 columns]"
      ]
     },
     "execution_count": 6,
     "metadata": {},
     "output_type": "execute_result"
    }
   ],
   "source": [
    "# Rename Columns\n",
    "ames_df.columns = ['ames_order','pid','mssubclass','mszoning','lotfrontage','lotarea','street','alley','lotshape','landcontour', \\\n",
    "                   'utilities','lotconfig','landslope','neighborhood','condition1','condition2','bldgtype','housestyle',\\\n",
    "                   'overallqual','overallcond','yearbuilt','yearremodadd','roofstyle','roofmatl','exterior1st','exterior2nd',\\\n",
    "                   'masvnrtype','masvnrarea','exterqual','extercond','foundation','bsmtqual','bsmtcond','bsmtexposure',\\\n",
    "                   'bsmtfintype1','bsmtfinsf1','bsmtfintype2','bsmtfinsf2','bsmtunfsf','totalbsmtsf','heating','heatingqc',\\\n",
    "                   'centralair','electrical','1stflrsf','2ndflrsf','lowqualfinsf','grlivarea','bsmtfullbath','bsmthalfbath',\\\n",
    "                   'fullbath','halfbath','bedroomabvgr','kitchenabvgr','kitchenqual','totrmsabvgrd','functional','fireplaces',\\\n",
    "                   'fireplacequ','garagetype','garageyrblt','garagefinish','garagecars','garagearea','garagequal','garagecond',\\\n",
    "                   'paveddrive','wooddecksf','openporchsf','enclosedporch','3ssnporch','screenporch','poolarea','poolqc','fence',\\\n",
    "                   'miscfeature','miscval','mosold','yrsold','saletype','salecondition','saleprice']\n",
    "ames_df.head(5)"
   ]
  },
  {
   "cell_type": "markdown",
   "metadata": {
    "id": "GJHmU2jXJ-F8"
   },
   "source": [
    "**Data Explorarion Summary:**\n",
    "* There are multiple types of features, both categorical and numerical\n",
    "* Tratget is numerical\n",
    "* There are missing values in the dataset"
   ]
  },
  {
   "cell_type": "markdown",
   "metadata": {
    "id": "P58DO6bGJ9Ev"
   },
   "source": [
    "\n",
    "\n",
    "# **Step 2: Feature Selection:**\n",
    "* Use heatmap to identify features that are most correlated to the Sales Price\n"
   ]
  },
  {
   "cell_type": "code",
   "execution_count": 7,
   "metadata": {
    "colab": {
     "base_uri": "https://localhost:8080/",
     "height": 947
    },
    "id": "IVURkI1CM5re",
    "outputId": "c1168f96-7c5c-4aa3-8c3c-a6b2c639f5b6"
   },
   "outputs": [
    {
     "data": {
      "text/plain": [
       "<matplotlib.axes._subplots.AxesSubplot at 0x17296831848>"
      ]
     },
     "execution_count": 7,
     "metadata": {},
     "output_type": "execute_result"
    },
    {
     "data": {
      "image/png": "[encoded data removed]",
      "text/plain": [
       "<Figure size 2160x1080 with 2 Axes>"
      ]
     },
     "metadata": {
      "needs_background": "light"
     },
     "output_type": "display_data"
    }
   ],
   "source": [
    "corrmat = ames_df.corr()\n",
    "f, ax = plt.subplots(figsize=(30, 15))\n",
    "sns.heatmap(corrmat, vmax=1, square=True)\n"
   ]
  },
  {
   "cell_type": "code",
   "execution_count": 8,
   "metadata": {
    "colab": {
     "base_uri": "https://localhost:8080/",
     "height": 278
    },
    "id": "UI6XpC2iqDkr",
    "outputId": "4e208677-e64d-4e43-8d2f-d5ebf18a468f"
   },
   "outputs": [
    {
     "data": {
      "text/html": [
       "<style  type=\"text/css\" >\n",
       "    #T_13de822e_2cf3_11eb_96b7_4c3488dd7894row0_col0 {\n",
       "            background-color:  #800080;\n",
       "            color:  #f1f1f1;\n",
       "        }    #T_13de822e_2cf3_11eb_96b7_4c3488dd7894row1_col0 {\n",
       "            background-color:  #b45eb4;\n",
       "            color:  #000000;\n",
       "        }    #T_13de822e_2cf3_11eb_96b7_4c3488dd7894row2_col0 {\n",
       "            background-color:  #cc89cc;\n",
       "            color:  #000000;\n",
       "        }    #T_13de822e_2cf3_11eb_96b7_4c3488dd7894row3_col0 {\n",
       "            background-color:  #dba5db;\n",
       "            color:  #000000;\n",
       "        }    #T_13de822e_2cf3_11eb_96b7_4c3488dd7894row4_col0 {\n",
       "            background-color:  #dda8dd;\n",
       "            color:  #000000;\n",
       "        }    #T_13de822e_2cf3_11eb_96b7_4c3488dd7894row5_col0 {\n",
       "            background-color:  #dfacdf;\n",
       "            color:  #000000;\n",
       "        }    #T_13de822e_2cf3_11eb_96b7_4c3488dd7894row6_col0 {\n",
       "            background-color:  #e2b0e2;\n",
       "            color:  #000000;\n",
       "        }    #T_13de822e_2cf3_11eb_96b7_4c3488dd7894row7_col0 {\n",
       "            background-color:  #f2cef2;\n",
       "            color:  #000000;\n",
       "        }    #T_13de822e_2cf3_11eb_96b7_4c3488dd7894row8_col0 {\n",
       "            background-color:  #f6d4f6;\n",
       "            color:  #000000;\n",
       "        }    #T_13de822e_2cf3_11eb_96b7_4c3488dd7894row9_col0 {\n",
       "            background-color:  #f9dbf9;\n",
       "            color:  #000000;\n",
       "        }    #T_13de822e_2cf3_11eb_96b7_4c3488dd7894row10_col0 {\n",
       "            background-color:  #fbddfb;\n",
       "            color:  #000000;\n",
       "        }    #T_13de822e_2cf3_11eb_96b7_4c3488dd7894row11_col0 {\n",
       "            background-color:  #ffe5ff;\n",
       "            color:  #000000;\n",
       "        }</style><table id=\"T_13de822e_2cf3_11eb_96b7_4c3488dd7894\" ><thead>    <tr>        <th class=\"blank level0\" ></th>        <th class=\"col_heading level0 col0\" >saleprice</th>    </tr></thead><tbody>\n",
       "                <tr>\n",
       "                        <th id=\"T_13de822e_2cf3_11eb_96b7_4c3488dd7894level0_row0\" class=\"row_heading level0 row0\" >saleprice</th>\n",
       "                        <td id=\"T_13de822e_2cf3_11eb_96b7_4c3488dd7894row0_col0\" class=\"data row0 col0\" >1.000000</td>\n",
       "            </tr>\n",
       "            <tr>\n",
       "                        <th id=\"T_13de822e_2cf3_11eb_96b7_4c3488dd7894level0_row1\" class=\"row_heading level0 row1\" >overallqual</th>\n",
       "                        <td id=\"T_13de822e_2cf3_11eb_96b7_4c3488dd7894row1_col0\" class=\"data row1 col0\" >0.799262</td>\n",
       "            </tr>\n",
       "            <tr>\n",
       "                        <th id=\"T_13de822e_2cf3_11eb_96b7_4c3488dd7894level0_row2\" class=\"row_heading level0 row2\" >grlivarea</th>\n",
       "                        <td id=\"T_13de822e_2cf3_11eb_96b7_4c3488dd7894row2_col0\" class=\"data row2 col0\" >0.706780</td>\n",
       "            </tr>\n",
       "            <tr>\n",
       "                        <th id=\"T_13de822e_2cf3_11eb_96b7_4c3488dd7894level0_row3\" class=\"row_heading level0 row3\" >garagecars</th>\n",
       "                        <td id=\"T_13de822e_2cf3_11eb_96b7_4c3488dd7894row3_col0\" class=\"data row3 col0\" >0.647877</td>\n",
       "            </tr>\n",
       "            <tr>\n",
       "                        <th id=\"T_13de822e_2cf3_11eb_96b7_4c3488dd7894level0_row4\" class=\"row_heading level0 row4\" >garagearea</th>\n",
       "                        <td id=\"T_13de822e_2cf3_11eb_96b7_4c3488dd7894row4_col0\" class=\"data row4 col0\" >0.640401</td>\n",
       "            </tr>\n",
       "            <tr>\n",
       "                        <th id=\"T_13de822e_2cf3_11eb_96b7_4c3488dd7894level0_row5\" class=\"row_heading level0 row5\" >totalbsmtsf</th>\n",
       "                        <td id=\"T_13de822e_2cf3_11eb_96b7_4c3488dd7894row5_col0\" class=\"data row5 col0\" >0.632280</td>\n",
       "            </tr>\n",
       "            <tr>\n",
       "                        <th id=\"T_13de822e_2cf3_11eb_96b7_4c3488dd7894level0_row6\" class=\"row_heading level0 row6\" >1stflrsf</th>\n",
       "                        <td id=\"T_13de822e_2cf3_11eb_96b7_4c3488dd7894row6_col0\" class=\"data row6 col0\" >0.621676</td>\n",
       "            </tr>\n",
       "            <tr>\n",
       "                        <th id=\"T_13de822e_2cf3_11eb_96b7_4c3488dd7894level0_row7\" class=\"row_heading level0 row7\" >yearbuilt</th>\n",
       "                        <td id=\"T_13de822e_2cf3_11eb_96b7_4c3488dd7894row7_col0\" class=\"data row7 col0\" >0.558426</td>\n",
       "            </tr>\n",
       "            <tr>\n",
       "                        <th id=\"T_13de822e_2cf3_11eb_96b7_4c3488dd7894level0_row8\" class=\"row_heading level0 row8\" >fullbath</th>\n",
       "                        <td id=\"T_13de822e_2cf3_11eb_96b7_4c3488dd7894row8_col0\" class=\"data row8 col0\" >0.545604</td>\n",
       "            </tr>\n",
       "            <tr>\n",
       "                        <th id=\"T_13de822e_2cf3_11eb_96b7_4c3488dd7894level0_row9\" class=\"row_heading level0 row9\" >yearremodadd</th>\n",
       "                        <td id=\"T_13de822e_2cf3_11eb_96b7_4c3488dd7894row9_col0\" class=\"data row9 col0\" >0.532974</td>\n",
       "            </tr>\n",
       "            <tr>\n",
       "                        <th id=\"T_13de822e_2cf3_11eb_96b7_4c3488dd7894level0_row10\" class=\"row_heading level0 row10\" >garageyrblt</th>\n",
       "                        <td id=\"T_13de822e_2cf3_11eb_96b7_4c3488dd7894row10_col0\" class=\"data row10 col0\" >0.526965</td>\n",
       "            </tr>\n",
       "            <tr>\n",
       "                        <th id=\"T_13de822e_2cf3_11eb_96b7_4c3488dd7894level0_row11\" class=\"row_heading level0 row11\" >masvnrarea</th>\n",
       "                        <td id=\"T_13de822e_2cf3_11eb_96b7_4c3488dd7894row11_col0\" class=\"data row11 col0\" >0.508285</td>\n",
       "            </tr>\n",
       "    </tbody></table>"
      ],
      "text/plain": [
       "<pandas.io.formats.style.Styler at 0x17290dffb48>"
      ]
     },
     "execution_count": 8,
     "metadata": {},
     "output_type": "execute_result"
    }
   ],
   "source": [
    "corrmat_2 = corrmat['saleprice'].sort_values(ascending=False).head(12).to_frame()\n",
    "\n",
    "cm = sns.light_palette(\"purple\", as_cmap=True)\n",
    "\n",
    "corrmat_3 = corrmat_2.style.background_gradient(cmap=cm)\n",
    "corrmat_3\n"
   ]
  },
  {
   "cell_type": "markdown",
   "metadata": {
    "id": "7wI1vNthN2E_"
   },
   "source": [
    "# **Initial Features Selection**\n",
    "we selected 15 features.\n",
    "\n",
    "***NUmerical Category:***\n",
    "Based on heatmap, pick the top 11 features that are most correlated to sales price(vmax>0.5)\n",
    "\n",
    "* overallqual_id\n",
    "* grlivarea\t\n",
    "* garagecars\n",
    "* garagearea\n",
    "* totalbsmtsf\t\n",
    "* 1stflrsf\n",
    "* fullbath\t\n",
    "* totrmsabvgrd\n",
    "* yearbuilt\t\n",
    "* yearremodadd\n",
    "\n",
    "***Categorical Category:***\n",
    "Categorical object can not be compared using heatmap so we selected a few more features based on commonsense\n",
    "* LotConfig\n",
    "* Neighborhood\n",
    "* BldgType\n",
    "* Foundation\n",
    "Noted: we will try different combination to determine the final features selected in machine learning step"
   ]
  },
  {
   "cell_type": "markdown",
   "metadata": {
    "id": "O6611MqKKMWw"
   },
   "source": [
    "\n",
    "# **Step 3: Data cleaning:**\n",
    "\n",
    "* remove null value or replace it with the mode of their respective columns\n",
    "* remove duplicate if any\n",
    "* create new feature to combine features that are in the same category\n"
   ]
  },
  {
   "cell_type": "code",
   "execution_count": 9,
   "metadata": {
    "colab": {
     "base_uri": "https://localhost:8080/",
     "height": 422
    },
    "id": "LDCzNGfvvAmA",
    "outputId": "e6f71462-e70a-49d2-e7a0-26d7ba1793bf"
   },
   "outputs": [
    {
     "name": "stdout",
     "output_type": "stream",
     "text": [
      "2930\n",
      "Index(['ames_order', 'pid', 'mssubclass', 'mszoning', 'lotfrontage', 'lotarea',\n",
      "       'street', 'alley', 'lotshape', 'landcontour', 'utilities', 'lotconfig',\n",
      "       'landslope', 'neighborhood', 'condition1', 'condition2', 'bldgtype',\n",
      "       'housestyle', 'overallqual', 'overallcond', 'yearbuilt', 'yearremodadd',\n",
      "       'roofstyle', 'roofmatl', 'exterior1st', 'exterior2nd', 'masvnrtype',\n",
      "       'masvnrarea', 'exterqual', 'extercond', 'foundation', 'bsmtqual',\n",
      "       'bsmtcond', 'bsmtexposure', 'bsmtfintype1', 'bsmtfinsf1',\n",
      "       'bsmtfintype2', 'bsmtfinsf2', 'bsmtunfsf', 'totalbsmtsf', 'heating',\n",
      "       'heatingqc', 'centralair', 'electrical', '1stflrsf', '2ndflrsf',\n",
      "       'lowqualfinsf', 'grlivarea', 'bsmtfullbath', 'bsmthalfbath', 'fullbath',\n",
      "       'halfbath', 'bedroomabvgr', 'kitchenabvgr', 'kitchenqual',\n",
      "       'totrmsabvgrd', 'functional', 'fireplaces', 'fireplacequ', 'garagetype',\n",
      "       'garageyrblt', 'garagefinish', 'garagecars', 'garagearea', 'garagequal',\n",
      "       'garagecond', 'paveddrive', 'wooddecksf', 'openporchsf',\n",
      "       'enclosedporch', '3ssnporch', 'screenporch', 'poolarea', 'poolqc',\n",
      "       'fence', 'miscfeature', 'miscval', 'mosold', 'yrsold', 'saletype',\n",
      "       'salecondition', 'saleprice'],\n",
      "      dtype='object')\n"
     ]
    }
   ],
   "source": [
    "# Check df shape and columns\n",
    "print(ames_df.shape[0])\n",
    "print(ames_df.columns)"
   ]
  },
  {
   "cell_type": "code",
   "execution_count": 10,
   "metadata": {
    "colab": {
     "base_uri": "https://localhost:8080/"
    },
    "id": "AxgPFK5z3DnV",
    "outputId": "8582eb2e-0e4f-4d5f-d694-e242e8406482"
   },
   "outputs": [
    {
     "data": {
      "text/plain": [
       "poolqc          99.556314\n",
       "miscfeature     96.382253\n",
       "alley           93.242321\n",
       "fence           80.477816\n",
       "fireplacequ     48.532423\n",
       "lotfrontage     16.723549\n",
       "garageyrblt      5.426621\n",
       "garagecond       5.426621\n",
       "garagequal       5.426621\n",
       "garagefinish     5.426621\n",
       "garagetype       5.358362\n",
       "bsmtexposure     2.832765\n",
       "bsmtfintype2     2.764505\n",
       "bsmtcond         2.730375\n",
       "bsmtqual         2.730375\n",
       "bsmtfintype1     2.730375\n",
       "masvnrtype       0.784983\n",
       "masvnrarea       0.784983\n",
       "bsmthalfbath     0.068259\n",
       "bsmtfullbath     0.068259\n",
       "garagecars       0.034130\n",
       "bsmtfinsf2       0.034130\n",
       "bsmtfinsf1       0.034130\n",
       "bsmtunfsf        0.034130\n",
       "totalbsmtsf      0.034130\n",
       "garagearea       0.034130\n",
       "electrical       0.034130\n",
       "dtype: float64"
      ]
     },
     "execution_count": 10,
     "metadata": {},
     "output_type": "execute_result"
    }
   ],
   "source": [
    "#check missing data ratio\n",
    "missing_1 = (ames_df.isnull().sum()/ len(ames_df)) * 100\n",
    "missing_1 = missing_1.drop(missing_1[missing_1 ==0].index).sort_values(ascending=False)[:30]\n",
    "missing_1"
   ]
  },
  {
   "cell_type": "markdown",
   "metadata": {
    "id": "jZayl7G_X2gE"
   },
   "source": [
    "**remove/replace NA**\n"
   ]
  },
  {
   "cell_type": "code",
   "execution_count": 11,
   "metadata": {},
   "outputs": [],
   "source": [
    "# Drop Columns more than 20% of the data is missing\n",
    "ames_df = ames_df.drop((missing_1[missing_1 > 20]).index,1)"
   ]
  },
  {
   "cell_type": "code",
   "execution_count": 15,
   "metadata": {},
   "outputs": [
    {
     "data": {
      "text/plain": [
       "Int64Index([], dtype='int64')"
      ]
     },
     "execution_count": 15,
     "metadata": {},
     "output_type": "execute_result"
    }
   ],
   "source": [
    "indexnumber = ames_df[ ames_df['mszoning'] == 'A (agr)' ].index\n",
    "indexnumber"
   ]
  },
  {
   "cell_type": "code",
   "execution_count": 23,
   "metadata": {},
   "outputs": [
    {
     "data": {
      "text/plain": [
       "array(['RL', 'RH', 'FV', 'RM', 'C (all)', 'I (all)'], dtype=object)"
      ]
     },
     "execution_count": 23,
     "metadata": {},
     "output_type": "execute_result"
    }
   ],
   "source": [
    "ames_df.mszoning.unique()"
   ]
  },
  {
   "cell_type": "code",
   "execution_count": 24,
   "metadata": {},
   "outputs": [
    {
     "ename": "ValueError",
     "evalue": "The truth value of a Series is ambiguous. Use a.empty, a.bool(), a.item(), a.any() or a.all().",
     "output_type": "error",
     "traceback": [
      "\u001b[1;31m---------------------------------------------------------------------------\u001b[0m",
      "\u001b[1;31mValueError\u001b[0m                                Traceback (most recent call last)",
      "\u001b[1;32m<ipython-input-24-6b9a2698b6a2>\u001b[0m in \u001b[0;36m<module>\u001b[1;34m\u001b[0m\n\u001b[1;32m----> 1\u001b[1;33m \u001b[0mames_df\u001b[0m\u001b[1;33m.\u001b[0m\u001b[0mdrop\u001b[0m\u001b[1;33m(\u001b[0m\u001b[0mames_df\u001b[0m\u001b[1;33m[\u001b[0m\u001b[0mames_df\u001b[0m\u001b[1;33m[\u001b[0m\u001b[1;34m'mszoning'\u001b[0m\u001b[1;33m]\u001b[0m \u001b[1;32min\u001b[0m \u001b[1;33m(\u001b[0m\u001b[1;34m'C (all)'\u001b[0m\u001b[1;33m,\u001b[0m\u001b[1;34m'I (all)'\u001b[0m\u001b[1;33m)\u001b[0m\u001b[1;33m]\u001b[0m\u001b[1;33m.\u001b[0m\u001b[0mindex\u001b[0m\u001b[1;33m,\u001b[0m \u001b[0minplace\u001b[0m \u001b[1;33m=\u001b[0m \u001b[1;32mTrue\u001b[0m\u001b[1;33m)\u001b[0m\u001b[1;33m\u001b[0m\u001b[1;33m\u001b[0m\u001b[0m\n\u001b[0m",
      "\u001b[1;32m~\\anaconda3\\envs\\PythonData\\lib\\site-packages\\pandas\\core\\generic.py\u001b[0m in \u001b[0;36m__nonzero__\u001b[1;34m(self)\u001b[0m\n\u001b[0;32m   1477\u001b[0m     \u001b[1;32mdef\u001b[0m \u001b[0m__nonzero__\u001b[0m\u001b[1;33m(\u001b[0m\u001b[0mself\u001b[0m\u001b[1;33m)\u001b[0m\u001b[1;33m:\u001b[0m\u001b[1;33m\u001b[0m\u001b[1;33m\u001b[0m\u001b[0m\n\u001b[0;32m   1478\u001b[0m         raise ValueError(\n\u001b[1;32m-> 1479\u001b[1;33m             \u001b[1;34mf\"The truth value of a {type(self).__name__} is ambiguous. \"\u001b[0m\u001b[1;33m\u001b[0m\u001b[1;33m\u001b[0m\u001b[0m\n\u001b[0m\u001b[0;32m   1480\u001b[0m             \u001b[1;34m\"Use a.empty, a.bool(), a.item(), a.any() or a.all().\"\u001b[0m\u001b[1;33m\u001b[0m\u001b[1;33m\u001b[0m\u001b[0m\n\u001b[0;32m   1481\u001b[0m         )\n",
      "\u001b[1;31mValueError\u001b[0m: The truth value of a Series is ambiguous. Use a.empty, a.bool(), a.item(), a.any() or a.all()."
     ]
    }
   ],
   "source": [
    "ames_df.drop(ames_df[ames_df['mszoning'] in ('C (all)','I (all)')].index, inplace = True) "
   ]
  },
  {
   "cell_type": "code",
   "execution_count": null,
   "metadata": {
    "id": "Z2Z0E0PuF_Rk"
   },
   "outputs": [],
   "source": [
    "#Replace null values with o for garageyrblt, garagearea and garagecars with 0\n",
    "for col in ('garageyrblt', 'garagearea', 'garagecars'):\n",
    "  ames_df[col] = ames_df[col].fillna(0)"
   ]
  },
  {
   "cell_type": "code",
   "execution_count": null,
   "metadata": {
    "id": "Y7DYZc9SN-3f"
   },
   "outputs": [],
   "source": [
    "#Fill missing values in masvnrarea and masvnrtype with mode\n",
    "ames_df['masvnrarea'].value_counts()\n",
    "ames_df['masvnrarea'] = ames_df['masvnrarea'].fillna(ames_df['masvnrarea'].mode()[0])\n",
    "ames_df['masvnrtype'].value_counts()\n",
    "ames_df['masvnrtype'] = ames_df['masvnrtype'].fillna(ames_df['masvnrtype'].mode()[0])"
   ]
  },
  {
   "cell_type": "code",
   "execution_count": null,
   "metadata": {
    "id": "nK-GZQ6rNx94"
   },
   "outputs": [],
   "source": [
    "ames_df['bsmthalfbath'].value_counts()\n",
    "ames_df['bsmthalfbath'] = ames_df['bsmthalfbath'].fillna(ames_df['bsmthalfbath'].mode()[0])\n",
    "ames_df['bsmtfullbath'].value_counts()\n",
    "ames_df['bsmtfullbath'] = ames_df['bsmtfullbath'].fillna(ames_df['bsmtfullbath'].mode()[0])"
   ]
  },
  {
   "cell_type": "code",
   "execution_count": null,
   "metadata": {
    "id": "9DzWpASmKEyo"
   },
   "outputs": [],
   "source": [
    "# null values saleprice are due to missing saleprice column in the test dataset\n",
    "# we will replace missing values in lotfrontage with median lotfrontage of neighberhood \n",
    "ames_df['lotfrontage'] = ames_df.groupby('neighborhood')['lotfrontage'].transform(\n",
    "      lambda x: x.fillna(x.median()))"
   ]
  },
  {
   "cell_type": "code",
   "execution_count": null,
   "metadata": {
    "id": "tKfWx3AUq7qz"
   },
   "outputs": [],
   "source": [
    "ames_df[\"utilities\"].value_counts()\n",
    "# drop the entire column since it only doesn't help with prediction\n",
    "ames_df = ames_df.drop(['utilities'], axis=1)"
   ]
  },
  {
   "cell_type": "code",
   "execution_count": null,
   "metadata": {
    "id": "ikQzhyXUr4Zw"
   },
   "outputs": [],
   "source": [
    "ames_df[\"electrical\"].value_counts()\n",
    "ames_df[\"electrical\"] = ames_df[\"electrical\"].fillna(ames_df[\"electrical\"].mode()[0])"
   ]
  },
  {
   "cell_type": "code",
   "execution_count": null,
   "metadata": {
    "colab": {
     "base_uri": "https://localhost:8080/"
    },
    "id": "lY2WzBLBPRGC",
    "outputId": "cc0bab9e-0266-497a-e0f3-81da5945e81e"
   },
   "outputs": [],
   "source": [
    "basement = [\"totalbsmtsf\", \"bsmtunfsf\", \"bsmtfinsf2\", \"bsmtfinsf1\"]\n",
    "for i in basement:\n",
    "  print(ames_df[i].value_counts())\n",
    "  ames_df[i] = ames_df[i].fillna(ames_df[i].mode()[0])"
   ]
  },
  {
   "cell_type": "code",
   "execution_count": null,
   "metadata": {
    "colab": {
     "base_uri": "https://localhost:8080/"
    },
    "id": "Ey9kSxzT22kH",
    "outputId": "052e28ad-d51f-4be1-f0ab-e70ade412bc0"
   },
   "outputs": [],
   "source": [
    "#Check if there is any duplicates\n",
    "ames_df.duplicated().sum()"
   ]
  },
  {
   "cell_type": "code",
   "execution_count": null,
   "metadata": {},
   "outputs": [],
   "source": [
    "# combine an important feature - total_area\n",
    "ames_df['total_area'] = ames_df['totalbsmtsf'] + ames_df['1stflrsf'] + ames_df['2ndflrsf'] + ames_df['grlivarea'] + ames_df['garagearea']\n"
   ]
  },
  {
   "cell_type": "code",
   "execution_count": null,
   "metadata": {},
   "outputs": [],
   "source": [
    "#check if the new column was addedd\n",
    "ames_df"
   ]
  },
  {
   "cell_type": "code",
   "execution_count": null,
   "metadata": {},
   "outputs": [],
   "source": [
    "#check missing data ratio again to see what's left\n",
    "missing_2 = (ames_df.isnull().sum()/ len(ames_df)) * 100\n",
    "missing_2 = missing_2.drop(missing_2[missing_2 ==0].index).sort_values(ascending=False)[:30]\n",
    "missing_2"
   ]
  },
  {
   "cell_type": "code",
   "execution_count": null,
   "metadata": {},
   "outputs": [],
   "source": [
    "# Drop Columns more than 2% of the data is missing\n",
    "ames_df = ames_df.drop((missing_2[missing_2 > .1]).index,1)"
   ]
  },
  {
   "cell_type": "code",
   "execution_count": null,
   "metadata": {
    "colab": {
     "base_uri": "https://localhost:8080/"
    },
    "id": "IVwb3enNZRVk",
    "outputId": "0fa0fcb5-5224-43b7-ef91-ea5c298b9567"
   },
   "outputs": [],
   "source": [
    "#dropping any NA before putting the dataset into our model\n",
    "ames_df = ames_df.dropna()\n",
    "ames_df.isnull().sum()"
   ]
  },
  {
   "cell_type": "code",
   "execution_count": null,
   "metadata": {},
   "outputs": [],
   "source": [
    "ames_df"
   ]
  },
  {
   "cell_type": "code",
   "execution_count": null,
   "metadata": {
    "colab": {
     "base_uri": "https://localhost:8080/"
    },
    "id": "YGHtVvsmtNxh",
    "outputId": "4b9a032a-9068-4e03-b10b-1b71935590dc"
   },
   "outputs": [],
   "source": [
    "# Check numerical columns\n",
    "numerical = ames_df.select_dtypes(exclude='object')\n",
    "numerical.columns"
   ]
  },
  {
   "cell_type": "code",
   "execution_count": null,
   "metadata": {},
   "outputs": [],
   "source": [
    "# Change numerical columns\n",
    "ames_df[['pid', 'mssubclass', 'overallqual','overallcond']] = ames_df[['pid', 'mssubclass', 'overallqual','overallcond']].astype(object)"
   ]
  },
  {
   "cell_type": "code",
   "execution_count": null,
   "metadata": {
    "colab": {
     "base_uri": "https://localhost:8080/"
    },
    "id": "GoPO__8w0h8a",
    "outputId": "5d4d59af-d3f1-4483-a350-804ff3ad4832"
   },
   "outputs": [],
   "source": [
    "#Check for catorgorical columns\n",
    "categorical = ames_df.select_dtypes('object')\n",
    "categorical.columns"
   ]
  },
  {
   "cell_type": "code",
   "execution_count": null,
   "metadata": {
    "colab": {
     "base_uri": "https://localhost:8080/",
     "height": 1000
    },
    "id": "4SbKu9ZVF5KZ",
    "outputId": "07ea9595-0c40-47e3-89ee-f3cefd36ad14"
   },
   "outputs": [],
   "source": [
    "x_features = [\"lotconfig\", \"neighborhood\", \"bldgtype\", \"foundation\",\"total_area\",\"overallqual\",\"grlivarea\", \"garagecars\",\"garagearea\",\"totalbsmtsf\",\"1stflrsf\",\"fullbath\",\"totrmsabvgrd\", \"yearbuilt\",\"yearremodadd\"]\n",
    "for x in x_features:\n",
    "\n",
    "  plt.scatter(ames_df[x], ames_df['saleprice'])\n",
    "  plt.xlabel(x)\n",
    "  plt.ylabel('selaprice')\n",
    "  plt.show()\n",
    "    "
   ]
  },
  {
   "cell_type": "markdown",
   "metadata": {
    "id": "sUPDtRJF1Wbb"
   },
   "source": [
    "Export cleaned dataset"
   ]
  },
  {
   "cell_type": "code",
   "execution_count": null,
   "metadata": {},
   "outputs": [],
   "source": [
    "#Converting float to int\n",
    "temp = ames_df.loc[:, ames_df.dtypes == np.float64]\n",
    "columns = list(temp.columns)\n",
    "\n",
    "#loop through all columns\n",
    "for col in columns:\n",
    "  ames_df[col] = ames_df[col].astype(np.int64)\n",
    "\n",
    "#Check to float columns\n",
    "# select the float columns\n",
    "df_float = ames_df.select_dtypes(include=[np.float])\n",
    "# select non-numeric columns\n",
    "df_float"
   ]
  },
  {
   "cell_type": "code",
   "execution_count": null,
   "metadata": {},
   "outputs": [],
   "source": [
    "# Check dataframe to make sure everything looks ok\n",
    "ames_df"
   ]
  },
  {
   "cell_type": "code",
   "execution_count": null,
   "metadata": {
    "id": "cBQ-wvNIJCHR"
   },
   "outputs": [],
   "source": [
    "# Connection string for the AWS PostgreSQL database\n",
    "def connect():\n",
    "    \n",
    "    # Set up a connection to the postgres server.\n",
    "    conn_string = \"host=\"+ creds.PGHOST +\" port=\"+ \"5432\" +\" dbname=\"+ creds.PGDATABASE +\" user=\" + creds.PGUSER \\\n",
    "                 +\" password=\"+ creds.PGPASSWORD\n",
    "    \n",
    "    conn = psycopg2.connect(conn_string)\n",
    "    #print(\"Connected!\")\n",
    "\n",
    "    #Create a cursor object\n",
    "    cursor = conn.cursor()\n",
    "    \n",
    "    return conn, cursor\n"
   ]
  },
  {
   "cell_type": "code",
   "execution_count": null,
   "metadata": {},
   "outputs": [],
   "source": [
    "# Create function to write to database\n",
    "import os\n",
    "def copy_from_file(conn, df, table, filename):\n",
    "    \"\"\"\n",
    "    Here we are going save the dataframe on disk as \n",
    "    a csv file, load the csv file  \n",
    "    and use copy_from() to copy it to the table\n",
    "    \"\"\"\n",
    "    # Save the dataframe to disk\n",
    "    tmp_df = filename #\"./tmp_dataframe.csv\"\n",
    "    df.to_csv(tmp_df, header=False, index=False)\n",
    "    f = open(tmp_df, 'r')\n",
    "    cursor = conn.cursor()\n",
    "    try:\n",
    "        cursor.copy_from(f, table, sep=\",\")\n",
    "        conn.commit()\n",
    "    except (Exception, psycopg2.DatabaseError) as error:\n",
    "        os.remove(tmp_df)\n",
    "        print(\"Error: %s\" % error)\n",
    "        conn.rollback()\n",
    "        cursor.close()\n",
    "        return 1\n",
    "    print(\"copy_from_file() done\")\n",
    "    cursor.close()\n",
    "    #os.remove(tmp_df)"
   ]
  },
  {
   "cell_type": "code",
   "execution_count": null,
   "metadata": {},
   "outputs": [],
   "source": [
    "#------------------------------------------------------------------------------------------\n",
    "# Call copy_from_file function to write to ames table\n",
    "#------------------------------------------------------------------------------------------\n",
    "conn, cursor = connect() # connect to the database\n",
    "copy_from_file(conn, ames_df, 'ames', 'Resources/cleaned_dataset.csv') # copy the dataframe to SQL"
   ]
  },
  {
   "cell_type": "code",
   "execution_count": null,
   "metadata": {},
   "outputs": [],
   "source": [
    "# Import our input dataset\n",
    "#ames_df = pd.read_csv('Resources/ames_raw.csv', keep_default_na=False)\n",
    "ames_geo_df = pd.read_csv('Resources/ames_geo.csv')\n",
    "ames_geo_df.head()"
   ]
  },
  {
   "cell_type": "code",
   "execution_count": null,
   "metadata": {},
   "outputs": [],
   "source": [
    "#Check datatypes for ames_geo_df\n",
    "ames_geo_df.dtypes"
   ]
  },
  {
   "cell_type": "code",
   "execution_count": null,
   "metadata": {},
   "outputs": [],
   "source": [
    "# Rename columns\n",
    "ames_geo_df.columns = ['geo_id','pid','longitude','latitude']\n",
    "ames_geo_df"
   ]
  },
  {
   "cell_type": "code",
   "execution_count": null,
   "metadata": {},
   "outputs": [],
   "source": [
    "# Replace extra commas\n",
    "ames_geo_df = ames_geo_df.replace(',','', regex=True)\n",
    "# Replace leading zeros\n",
    "ames_geo_df['pid'] = ames_geo_df['pid'].str.lstrip('0')\n",
    "# Round decimal places to 6\n",
    "ames_geo_df['longitude']=ames_geo_df['longitude'].round(decimals=6)\n",
    "ames_geo_df['latitude']=ames_geo_df['latitude'].round(decimals=6)"
   ]
  },
  {
   "cell_type": "code",
   "execution_count": null,
   "metadata": {},
   "outputs": [],
   "source": [
    "# Change the data type of pid for ames_df to compare pid in both dataframes\n",
    "ames_df['pid'] = ames_df['pid'].astype(np.str)"
   ]
  },
  {
   "cell_type": "code",
   "execution_count": null,
   "metadata": {},
   "outputs": [],
   "source": [
    "# Merge both dataframes\n",
    "common = ames_df.merge(ames_geo_df, on=[\"pid\"])\n",
    "common"
   ]
  },
  {
   "cell_type": "code",
   "execution_count": null,
   "metadata": {},
   "outputs": [],
   "source": [
    "# Get only the matched pid from both dataframes\n",
    "ames_geo_df = ames_geo_df[ames_geo_df.pid.isin(common.pid)]\n",
    "ames_geo_df"
   ]
  },
  {
   "cell_type": "code",
   "execution_count": null,
   "metadata": {},
   "outputs": [],
   "source": [
    "#------------------------------------------------------------------------------------------\n",
    "# Call copy_from_file function to write to ames_ego table\n",
    "#------------------------------------------------------------------------------------------\n",
    "conn, cursor = connect() # connect to the database\n",
    "copy_from_file(conn, ames_geo_df, 'ames_geo', 'Resources/cleaned_geo_dataset.csv') # copy the dataframe to SQL"
   ]
  },
  {
   "cell_type": "code",
   "execution_count": null,
   "metadata": {},
   "outputs": [],
   "source": [
    "# Close database connection\n",
    "conn.close() # close the connection"
   ]
  },
  {
   "cell_type": "code",
   "execution_count": null,
   "metadata": {},
   "outputs": [],
   "source": [
    "# Export csv file with header for website and tableau\n",
    "ames_df.to_csv('Resources/cleaned_ames_dataset.cvs', index=False)\n",
    "ames_geo_df.to_csv('Resources/cleaned_ames_geo_dataset.csv', index=False)"
   ]
  }
 ],
 "metadata": {
  "colab": {
   "collapsed_sections": [],
   "name": "House Price Prediction.ipynb",
   "provenance": [],
   "toc_visible": true
  },
  "kernelspec": {
   "display_name": "PythonData",
   "language": "python",
   "name": "pythondata"
  },
  "language_info": {
   "codemirror_mode": {
    "name": "ipython",
    "version": 3
   },
   "file_extension": ".py",
   "mimetype": "text/x-python",
   "name": "python",
   "nbconvert_exporter": "python",
   "pygments_lexer": "ipython3",
   "version": "3.7.7"
  },
  "nteract": {
   "version": "0.12.3"
  }
 },
 "nbformat": 4,
 "nbformat_minor": 1
}
